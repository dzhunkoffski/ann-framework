{
 "cells": [
  {
   "cell_type": "code",
   "execution_count": 1,
   "id": "8bd8ce59",
   "metadata": {},
   "outputs": [],
   "source": [
    "%load_ext autoreload\n",
    "%autoreload 2"
   ]
  },
  {
   "cell_type": "code",
   "execution_count": 2,
   "id": "65b0426a",
   "metadata": {},
   "outputs": [],
   "source": [
    "import tests"
   ]
  },
  {
   "cell_type": "markdown",
   "id": "958dd325",
   "metadata": {},
   "source": [
    "## 1. Linear\n",
    "\n",
    "- Prototype: [nn.Linear](https://pytorch.org/docs/stable/generated/torch.nn.Linear.html#torch.nn.Linear)\n",
    "- Location in lib: `modules.layers.Linear`"
   ]
  },
  {
   "cell_type": "code",
   "execution_count": 3,
   "id": "490bf685",
   "metadata": {},
   "outputs": [
    {
     "name": "stdout",
     "output_type": "stream",
     "text": [
      "test_linear ... OK\n"
     ]
    }
   ],
   "source": [
    "tests.test_linear()"
   ]
  },
  {
   "cell_type": "markdown",
   "id": "9c107110",
   "metadata": {},
   "source": [
    "## 2. Batch-normalization\n",
    "\n",
    "- Prototype: [nn.BatchNorm1d](https://pytorch.org/docs/stable/generated/torch.nn.BatchNorm1d.html#torch.nn.BatchNorm1d)\n",
    "- Location: `modules.layers.BatchNormalization`"
   ]
  },
  {
   "cell_type": "code",
   "execution_count": 4,
   "id": "8237c5ac",
   "metadata": {},
   "outputs": [
    {
     "name": "stdout",
     "output_type": "stream",
     "text": [
      "test_bn ... OK\n"
     ]
    }
   ],
   "source": [
    "tests.test_bn()"
   ]
  },
  {
   "cell_type": "markdown",
   "id": "d8f57a68",
   "metadata": {},
   "source": [
    "## 3. Dropout\n",
    "\n",
    "- Prototype: [nn.Dropout](https://pytorch.org/docs/stable/generated/torch.nn.Dropout.html#torch.nn.Dropout)\n",
    "- Location: `modules.layers.Dropout`"
   ]
  },
  {
   "cell_type": "code",
   "execution_count": 5,
   "id": "65200191",
   "metadata": {},
   "outputs": [
    {
     "name": "stdout",
     "output_type": "stream",
     "text": [
      "test_dropout ... OK\n"
     ]
    }
   ],
   "source": [
    "tests.test_dropout()"
   ]
  },
  {
   "cell_type": "markdown",
   "id": "3a473a5e",
   "metadata": {},
   "source": [
    "## 4. Activation functions\n",
    "\n",
    "### ReLU\n",
    "\n",
    "- Prototype: [nn.ReLU](https://pytorch.org/docs/stable/generated/torch.nn.ReLU.html)\n",
    "- Location: `modules.activations.ReLU`\n",
    "\n",
    "### Sigmoid\n",
    "\n",
    "- Prototype: [nn.Sigmoid](https://pytorch.org/docs/stable/generated/torch.nn.Sigmoid.html?highlight=nn%20sigmoid#torch.nn.Sigmoid)\n",
    "- Location: `modules.activations.Sigmoid`\n",
    "\n",
    "### Softmax\n",
    "\n",
    "- Prototype: [nn.Softmax](http://bit.ly/get3a)\n",
    "- Location: `modules.activations.Softmax`\n",
    "\n",
    "### LogSoftmax\n",
    "\n",
    "- Prototype: [nn.LogSoftmax](https://pytorch.org/docs/stable/generated/torch.nn.LogSoftmax.html?highlight=log%20softmax#torch.nn.LogSoftmax)\n",
    "- Location: `modules.activations.LogSoftmax`"
   ]
  },
  {
   "cell_type": "code",
   "execution_count": 6,
   "id": "188d6c6d",
   "metadata": {
    "scrolled": true
   },
   "outputs": [
    {
     "name": "stdout",
     "output_type": "stream",
     "text": [
      "test_activations ... OK\n"
     ]
    }
   ],
   "source": [
    "tests.test_activations()"
   ]
  },
  {
   "cell_type": "markdown",
   "id": "a0fcba2d",
   "metadata": {},
   "source": [
    "## 5. Sequential\n",
    "\n",
    "- Prototype: [nn.Sequential](https://pytorch.org/docs/stable/generated/torch.nn.Sequential.html)\n",
    "- Location: `modules.layers.Sequential`"
   ]
  },
  {
   "cell_type": "code",
   "execution_count": 7,
   "id": "5935e5a3",
   "metadata": {
    "scrolled": true
   },
   "outputs": [
    {
     "name": "stdout",
     "output_type": "stream",
     "text": [
      "test_sequential ... OK\n"
     ]
    }
   ],
   "source": [
    "tests.test_sequential()"
   ]
  },
  {
   "cell_type": "markdown",
   "id": "38b95cbb",
   "metadata": {},
   "source": [
    "## 6. Loss functions\n",
    "\n",
    "### MSE\n",
    "\n",
    "- Prototype: [nn.MSELoss](https://pytorch.org/docs/stable/generated/torch.nn.MSELoss.html#torch.nn.MSELoss)\n",
    "- Location: `modules.criterions.MSELoss`\n",
    "\n",
    "### Cross Entropy\n",
    "\n",
    "- Prototype: [nn.CrossEntropyLoss](https://pytorch.org/docs/stable/generated/torch.nn.CrossEntropyLoss.html)\n",
    "- Location: `modules.criterions.CrossEntropyLoss`\n"
   ]
  },
  {
   "cell_type": "code",
   "execution_count": 8,
   "id": "d601eecf",
   "metadata": {},
   "outputs": [
    {
     "name": "stdout",
     "output_type": "stream",
     "text": [
      "test_criterions ... Is mse: True\n",
      "Is mse: False\n",
      "Is mse: True\n",
      "Is mse: False\n",
      "Is mse: True\n",
      "Is mse: False\n",
      "OK\n"
     ]
    }
   ],
   "source": [
    "tests.test_criterions()"
   ]
  },
  {
   "cell_type": "markdown",
   "id": "37152e29",
   "metadata": {},
   "source": [
    "## 7. Optimizers\n",
    "\n",
    "### SGD\n",
    "\n",
    "- Prototype: [torch.optim.SGD](https://pytorch.org/docs/stable/generated/torch.optim.SGD.html)\n",
    "- Location: `modules.optimizers.SGD`\n",
    "\n",
    "### Adam\n",
    "\n",
    "- Prototype: [torch.optim.Adam](https://pytorch.org/docs/stable/generated/torch.optim.Adam.html#torch.optim.Adam)\n",
    "- Location: `modules.criterions.CrossEntropyLoss`\n"
   ]
  },
  {
   "cell_type": "code",
   "execution_count": 9,
   "id": "601c6dc8",
   "metadata": {
    "scrolled": false
   },
   "outputs": [
    {
     "name": "stdout",
     "output_type": "stream",
     "text": [
      "test_optimizers ... OK\n"
     ]
    }
   ],
   "source": [
    "tests.test_optimizers()"
   ]
  },
  {
   "cell_type": "markdown",
   "id": "9f6ccdd1",
   "metadata": {},
   "source": [
    "## 8. DataLoader\n",
    "\n",
    "- Prototype: [torch.utils.data.DataLoader](https://pytorch.org/docs/stable/data.html#torch.utils.data.DataLoader)\n",
    "- Location: `modules.dataloader.DataLoader`"
   ]
  },
  {
   "cell_type": "code",
   "execution_count": 10,
   "id": "5338c071",
   "metadata": {},
   "outputs": [
    {
     "name": "stdout",
     "output_type": "stream",
     "text": [
      "test_dataloader ... OK\n"
     ]
    }
   ],
   "source": [
    "tests.test_dataloader()"
   ]
  },
  {
   "cell_type": "markdown",
   "id": "d6a4c222",
   "metadata": {},
   "source": [
    "# Compare with Pytorch implementation"
   ]
  },
  {
   "cell_type": "code",
   "execution_count": 11,
   "id": "d3540752",
   "metadata": {},
   "outputs": [],
   "source": [
    "import numpy as np\n",
    "import modules as mm\n",
    "from tqdm.notebook import tqdm"
   ]
  },
  {
   "cell_type": "markdown",
   "id": "dc66fe26",
   "metadata": {},
   "source": [
    "## Test on synthetic data"
   ]
  },
  {
   "cell_type": "markdown",
   "id": "9e435508",
   "metadata": {},
   "source": [
    "**Mine implementation**"
   ]
  },
  {
   "cell_type": "code",
   "execution_count": 12,
   "id": "0002af50",
   "metadata": {},
   "outputs": [],
   "source": [
    "np.random.seed(42)\n",
    "X_train = np.random.randn(2048, 8)\n",
    "X_test = np.random.randn(512, 8)\n",
    "y_train = np.sin(X_train).sum(axis=1, keepdims=True)\n",
    "y_test = np.sin(X_test).sum(axis=1, keepdims=True)\n",
    "\n",
    "train_loader = mm.DataLoader(X_train.astype('float32'), y_train.astype('float32'), batch_size=64, shuffle=True)\n",
    "test_loader = mm.DataLoader(X_test.astype('float32'), y_test.astype('float32'), batch_size=64, shuffle=False)\n",
    "\n",
    "model = mm.Sequential(\n",
    "    mm.Linear(8, 32),\n",
    "    mm.BatchNormalization(32),\n",
    "    mm.ReLU(),\n",
    "    mm.Linear(32, 64),\n",
    "    mm.Dropout(0.25),\n",
    "    mm.Sigmoid(),\n",
    "    mm.Linear(64, 1)\n",
    ")\n",
    "optimizer = mm.Adam(model, lr=1e-2)\n",
    "criterion = mm.MSELoss()"
   ]
  },
  {
   "cell_type": "code",
   "execution_count": 13,
   "id": "5661b649",
   "metadata": {},
   "outputs": [
    {
     "name": "stderr",
     "output_type": "stream",
     "text": [
      "Widget Javascript not detected.  It may not be installed or enabled properly.\n"
     ]
    },
    {
     "data": {
      "application/vnd.jupyter.widget-view+json": {
       "model_id": "d134860a608544a9b7d8ae637d9b21b0"
      }
     },
     "metadata": {},
     "output_type": "display_data"
    },
    {
     "name": "stdout",
     "output_type": "stream",
     "text": [
      "\n"
     ]
    }
   ],
   "source": [
    "num_epochs = 100\n",
    "pbar = tqdm(range(1, num_epochs + 1))\n",
    "\n",
    "for epoch in pbar:\n",
    "    train_loss, test_loss = 0.0, 0.0\n",
    "\n",
    "    model.train()\n",
    "    for X_batch, y_batch in train_loader:\n",
    "        optimizer.zero_grad()\n",
    "        predictions = model(X_batch)\n",
    "        loss = criterion(predictions, y_batch)\n",
    "        model.backward(X_batch, criterion.backward(predictions, y_batch))\n",
    "        optimizer.step()\n",
    "\n",
    "        train_loss += loss * X_batch.shape[0]\n",
    "\n",
    "    model.eval()\n",
    "    for X_batch, y_batch in test_loader:\n",
    "        predictions = model(X_batch)\n",
    "        loss = criterion(predictions, y_batch)\n",
    "        test_loss += loss * X_batch.shape[0]\n",
    "\n",
    "    train_loss /= train_loader.num_samples()\n",
    "    test_loss /= test_loader.num_samples()\n",
    "    pbar.set_postfix({'train loss': train_loss, 'test loss': test_loss})"
   ]
  },
  {
   "cell_type": "markdown",
   "id": "79333545",
   "metadata": {},
   "source": [
    "**Pytorch**"
   ]
  },
  {
   "cell_type": "code",
   "execution_count": 14,
   "id": "b70bb7c3",
   "metadata": {},
   "outputs": [],
   "source": [
    "import torch\n",
    "from torch import nn\n",
    "\n",
    "model = nn.Sequential(\n",
    "    nn.Linear(8, 32),\n",
    "    nn.BatchNorm1d(32),\n",
    "    nn.ReLU(),\n",
    "    nn.Linear(32, 64),\n",
    "    nn.Dropout(0.25),\n",
    "    nn.Sigmoid(),\n",
    "    nn.Linear(64, 1)\n",
    ")\n",
    "optimizer = torch.optim.Adam(model.parameters(), lr=1e-2)\n",
    "criterion = nn.MSELoss()"
   ]
  },
  {
   "cell_type": "code",
   "execution_count": 15,
   "id": "485bbe55",
   "metadata": {},
   "outputs": [
    {
     "name": "stderr",
     "output_type": "stream",
     "text": [
      "Widget Javascript not detected.  It may not be installed or enabled properly.\n"
     ]
    },
    {
     "data": {
      "application/vnd.jupyter.widget-view+json": {
       "model_id": "aec67f9b78e0443a97748497eeba42a1"
      }
     },
     "metadata": {},
     "output_type": "display_data"
    },
    {
     "name": "stdout",
     "output_type": "stream",
     "text": [
      "\n"
     ]
    }
   ],
   "source": [
    "num_epochs = 100\n",
    "pbar = tqdm(range(1, num_epochs + 1))\n",
    "\n",
    "for epoch in pbar:\n",
    "    train_loss, test_loss = 0.0, 0.0\n",
    "\n",
    "    model.train()\n",
    "    for X_batch, y_batch in train_loader:\n",
    "        \n",
    "        X_batch = torch.from_numpy(X_batch)\n",
    "        y_batch = torch.from_numpy(y_batch)\n",
    "        \n",
    "        optimizer.zero_grad()\n",
    "        predictions = model(X_batch)\n",
    "        loss = criterion(predictions, y_batch)\n",
    "        \n",
    "        loss.backward()\n",
    "        optimizer.step()\n",
    "        \n",
    "        loss = loss.item()\n",
    "        train_loss += loss * X_batch.shape[0]\n",
    "\n",
    "    model.eval()\n",
    "    for X_batch, y_batch in test_loader:\n",
    "        X_batch = torch.from_numpy(X_batch)\n",
    "        y_batch = torch.from_numpy(y_batch)\n",
    "        \n",
    "        predictions = model(X_batch)\n",
    "        loss = criterion(predictions, y_batch)\n",
    "        loss = loss.item()\n",
    "        test_loss += loss * X_batch.shape[0]\n",
    "\n",
    "    train_loss /= train_loader.num_samples()\n",
    "    test_loss /= test_loader.num_samples()\n",
    "    pbar.set_postfix({'train loss': train_loss, 'test loss': test_loss})"
   ]
  },
  {
   "cell_type": "markdown",
   "id": "c266aac9",
   "metadata": {},
   "source": [
    "## MNIST Classification"
   ]
  },
  {
   "cell_type": "code",
   "execution_count": 18,
   "id": "28a6aaed",
   "metadata": {},
   "outputs": [],
   "source": [
    "import pandas as pd\n",
    "\n",
    "mnist_df = pd.read_csv('mnist.csv')"
   ]
  },
  {
   "cell_type": "code",
   "execution_count": 19,
   "id": "1d6300fc",
   "metadata": {},
   "outputs": [
    {
     "data": {
      "text/html": [
       "<div>\n",
       "<style scoped>\n",
       "    .dataframe tbody tr th:only-of-type {\n",
       "        vertical-align: middle;\n",
       "    }\n",
       "\n",
       "    .dataframe tbody tr th {\n",
       "        vertical-align: top;\n",
       "    }\n",
       "\n",
       "    .dataframe thead th {\n",
       "        text-align: right;\n",
       "    }\n",
       "</style>\n",
       "<table border=\"1\" class=\"dataframe\">\n",
       "  <thead>\n",
       "    <tr style=\"text-align: right;\">\n",
       "      <th></th>\n",
       "      <th>label</th>\n",
       "      <th>pixel0</th>\n",
       "      <th>pixel1</th>\n",
       "      <th>pixel2</th>\n",
       "      <th>pixel3</th>\n",
       "      <th>pixel4</th>\n",
       "      <th>pixel5</th>\n",
       "      <th>pixel6</th>\n",
       "      <th>pixel7</th>\n",
       "      <th>pixel8</th>\n",
       "      <th>...</th>\n",
       "      <th>pixel774</th>\n",
       "      <th>pixel775</th>\n",
       "      <th>pixel776</th>\n",
       "      <th>pixel777</th>\n",
       "      <th>pixel778</th>\n",
       "      <th>pixel779</th>\n",
       "      <th>pixel780</th>\n",
       "      <th>pixel781</th>\n",
       "      <th>pixel782</th>\n",
       "      <th>pixel783</th>\n",
       "    </tr>\n",
       "  </thead>\n",
       "  <tbody>\n",
       "    <tr>\n",
       "      <th>0</th>\n",
       "      <td>1</td>\n",
       "      <td>0</td>\n",
       "      <td>0</td>\n",
       "      <td>0</td>\n",
       "      <td>0</td>\n",
       "      <td>0</td>\n",
       "      <td>0</td>\n",
       "      <td>0</td>\n",
       "      <td>0</td>\n",
       "      <td>0</td>\n",
       "      <td>...</td>\n",
       "      <td>0</td>\n",
       "      <td>0</td>\n",
       "      <td>0</td>\n",
       "      <td>0</td>\n",
       "      <td>0</td>\n",
       "      <td>0</td>\n",
       "      <td>0</td>\n",
       "      <td>0</td>\n",
       "      <td>0</td>\n",
       "      <td>0</td>\n",
       "    </tr>\n",
       "    <tr>\n",
       "      <th>1</th>\n",
       "      <td>0</td>\n",
       "      <td>0</td>\n",
       "      <td>0</td>\n",
       "      <td>0</td>\n",
       "      <td>0</td>\n",
       "      <td>0</td>\n",
       "      <td>0</td>\n",
       "      <td>0</td>\n",
       "      <td>0</td>\n",
       "      <td>0</td>\n",
       "      <td>...</td>\n",
       "      <td>0</td>\n",
       "      <td>0</td>\n",
       "      <td>0</td>\n",
       "      <td>0</td>\n",
       "      <td>0</td>\n",
       "      <td>0</td>\n",
       "      <td>0</td>\n",
       "      <td>0</td>\n",
       "      <td>0</td>\n",
       "      <td>0</td>\n",
       "    </tr>\n",
       "    <tr>\n",
       "      <th>2</th>\n",
       "      <td>1</td>\n",
       "      <td>0</td>\n",
       "      <td>0</td>\n",
       "      <td>0</td>\n",
       "      <td>0</td>\n",
       "      <td>0</td>\n",
       "      <td>0</td>\n",
       "      <td>0</td>\n",
       "      <td>0</td>\n",
       "      <td>0</td>\n",
       "      <td>...</td>\n",
       "      <td>0</td>\n",
       "      <td>0</td>\n",
       "      <td>0</td>\n",
       "      <td>0</td>\n",
       "      <td>0</td>\n",
       "      <td>0</td>\n",
       "      <td>0</td>\n",
       "      <td>0</td>\n",
       "      <td>0</td>\n",
       "      <td>0</td>\n",
       "    </tr>\n",
       "    <tr>\n",
       "      <th>3</th>\n",
       "      <td>4</td>\n",
       "      <td>0</td>\n",
       "      <td>0</td>\n",
       "      <td>0</td>\n",
       "      <td>0</td>\n",
       "      <td>0</td>\n",
       "      <td>0</td>\n",
       "      <td>0</td>\n",
       "      <td>0</td>\n",
       "      <td>0</td>\n",
       "      <td>...</td>\n",
       "      <td>0</td>\n",
       "      <td>0</td>\n",
       "      <td>0</td>\n",
       "      <td>0</td>\n",
       "      <td>0</td>\n",
       "      <td>0</td>\n",
       "      <td>0</td>\n",
       "      <td>0</td>\n",
       "      <td>0</td>\n",
       "      <td>0</td>\n",
       "    </tr>\n",
       "    <tr>\n",
       "      <th>4</th>\n",
       "      <td>0</td>\n",
       "      <td>0</td>\n",
       "      <td>0</td>\n",
       "      <td>0</td>\n",
       "      <td>0</td>\n",
       "      <td>0</td>\n",
       "      <td>0</td>\n",
       "      <td>0</td>\n",
       "      <td>0</td>\n",
       "      <td>0</td>\n",
       "      <td>...</td>\n",
       "      <td>0</td>\n",
       "      <td>0</td>\n",
       "      <td>0</td>\n",
       "      <td>0</td>\n",
       "      <td>0</td>\n",
       "      <td>0</td>\n",
       "      <td>0</td>\n",
       "      <td>0</td>\n",
       "      <td>0</td>\n",
       "      <td>0</td>\n",
       "    </tr>\n",
       "  </tbody>\n",
       "</table>\n",
       "<p>5 rows × 785 columns</p>\n",
       "</div>"
      ],
      "text/plain": [
       "   label  pixel0  pixel1  pixel2  pixel3  pixel4  pixel5  pixel6  pixel7  \\\n",
       "0      1       0       0       0       0       0       0       0       0   \n",
       "1      0       0       0       0       0       0       0       0       0   \n",
       "2      1       0       0       0       0       0       0       0       0   \n",
       "3      4       0       0       0       0       0       0       0       0   \n",
       "4      0       0       0       0       0       0       0       0       0   \n",
       "\n",
       "   pixel8  ...  pixel774  pixel775  pixel776  pixel777  pixel778  pixel779  \\\n",
       "0       0  ...         0         0         0         0         0         0   \n",
       "1       0  ...         0         0         0         0         0         0   \n",
       "2       0  ...         0         0         0         0         0         0   \n",
       "3       0  ...         0         0         0         0         0         0   \n",
       "4       0  ...         0         0         0         0         0         0   \n",
       "\n",
       "   pixel780  pixel781  pixel782  pixel783  \n",
       "0         0         0         0         0  \n",
       "1         0         0         0         0  \n",
       "2         0         0         0         0  \n",
       "3         0         0         0         0  \n",
       "4         0         0         0         0  \n",
       "\n",
       "[5 rows x 785 columns]"
      ]
     },
     "execution_count": 19,
     "metadata": {},
     "output_type": "execute_result"
    }
   ],
   "source": [
    "mnist_df.head()"
   ]
  },
  {
   "cell_type": "code",
   "execution_count": 20,
   "id": "f168bc5a",
   "metadata": {},
   "outputs": [],
   "source": [
    "X = mnist_df.drop(['label'], axis=1)\n",
    "y = mnist_df['label']"
   ]
  },
  {
   "cell_type": "code",
   "execution_count": 21,
   "id": "0f5af56e",
   "metadata": {},
   "outputs": [
    {
     "data": {
      "text/plain": [
       "<matplotlib.image.AxesImage at 0x7f2861e25340>"
      ]
     },
     "execution_count": 21,
     "metadata": {},
     "output_type": "execute_result"
    },
    {
     "data": {
      "image/png": "[encoded data removed]",
      "text/plain": [
       "<Figure size 640x480 with 1 Axes>"
      ]
     },
     "metadata": {},
     "output_type": "display_data"
    }
   ],
   "source": [
    "import matplotlib.pyplot as plt\n",
    "\n",
    "plt.imshow(X[5:6].values[0].reshape((28, 28)), cmap='gray')"
   ]
  },
  {
   "cell_type": "code",
   "execution_count": 22,
   "id": "b451bc6f",
   "metadata": {},
   "outputs": [],
   "source": [
    "from sklearn.model_selection import train_test_split\n",
    "\n",
    "X_train, X_val, y_train, y_val = train_test_split(X, y, test_size=0.25, random_state=42)"
   ]
  },
  {
   "cell_type": "markdown",
   "id": "15414967",
   "metadata": {},
   "source": [
    "Code below will visualize training progress:"
   ]
  },
  {
   "cell_type": "code",
   "execution_count": 55,
   "id": "c44fe145",
   "metadata": {},
   "outputs": [],
   "source": [
    "from IPython.display import clear_output\n",
    "\n",
    "def plot_losses(train_losses, train_metrics, val_losses, val_metrics):\n",
    "    clear_output()\n",
    "    fig, axs = plt.subplots(1, 2, figsize=(15, 5))\n",
    "    axs[0].plot(range(1, len(train_losses) + 1), train_losses, label='train')\n",
    "    axs[0].plot(range(1, len(val_losses) + 1), val_losses, label='val')\n",
    "    axs[1].plot(range(1, len(train_metrics) + 1), train_metrics, label='train')\n",
    "    axs[1].plot(range(1, len(val_metrics) + 1), val_metrics, label='val')\n",
    "\n",
    "    if max(train_losses) / min(train_losses) > 10:\n",
    "        axs[0].set_yscale('log')\n",
    "\n",
    "    if max(train_metrics) / min(train_metrics) > 10:\n",
    "        axs[0].set_yscale('log')\n",
    "\n",
    "    for ax in axs:\n",
    "        ax.set_xlabel('epoch')\n",
    "        ax.legend()\n",
    "\n",
    "    axs[0].set_ylabel('loss')\n",
    "    axs[1].set_ylabel('Accuracy')\n",
    "    plt.show()\n",
    "\n",
    "\n",
    "def train_and_validate(model, optimizer, criterion, metric, train_loader, val_loader,\n",
    "                       num_epochs, verbose=True, use_torch = False):\n",
    "    train_losses, val_losses = [], []\n",
    "    train_metrics, val_metrics = [], []\n",
    "\n",
    "    for epoch in range(1, num_epochs + 1):\n",
    "        model.train()\n",
    "        running_loss, running_metric = 0, 0\n",
    "        pbar = tqdm(train_loader, desc=f'Training {epoch}/{num_epochs}') \\\n",
    "            if verbose else train_loader\n",
    "\n",
    "        for X_batch, y_batch in pbar:\n",
    "            \n",
    "            if use_torch:\n",
    "                X_batch = torch.from_numpy(X_batch)\n",
    "                y_batch = torch.from_numpy(y_batch)\n",
    "            \n",
    "            optimizer.zero_grad()\n",
    "            predictions = model(X_batch)\n",
    "            loss = criterion(predictions, y_batch)\n",
    "            if use_torch:\n",
    "                loss.backward()\n",
    "            else:\n",
    "                model.backward(X_batch, criterion.backward(predictions, y_batch))\n",
    "            optimizer.step()\n",
    "            \n",
    "            metric_value = metric(predictions, y_batch)\n",
    "            if use_torch:\n",
    "                loss = loss.item()\n",
    "                metric_value = metric_value.item()\n",
    "            running_loss += loss * X_batch.shape[0]\n",
    "            running_metric += metric_value * X_batch.shape[0]\n",
    "            if verbose:\n",
    "                pbar.set_postfix({'loss': loss, 'Accuracy': metric_value})\n",
    "\n",
    "        train_losses += [running_loss / train_loader.num_samples()]\n",
    "        train_metrics += [running_metric / train_loader.num_samples()]\n",
    "\n",
    "        model.eval()\n",
    "        running_loss, running_metric = 0, 0\n",
    "        pbar = tqdm(val_loader, desc=f'Validating {epoch}/{num_epochs}') \\\n",
    "            if verbose else val_loader\n",
    "\n",
    "        for X_batch, y_batch in pbar:\n",
    "            \n",
    "            if use_torch:\n",
    "                X_batch = torch.from_numpy(X_batch)\n",
    "                y_batch = torch.from_numpy(y_batch)\n",
    "            \n",
    "            predictions = model(X_batch)\n",
    "            loss = criterion(predictions, y_batch)\n",
    "            \n",
    "            metric_value = metric(predictions, y_batch)\n",
    "            if use_torch:\n",
    "                loss = loss.item()\n",
    "                metric_value = metric_value.item()\n",
    "            running_loss += loss * X_batch.shape[0]\n",
    "            running_metric += metric_value * X_batch.shape[0]\n",
    "            if verbose:\n",
    "                pbar.set_postfix({'loss': loss, 'Accuracy': metric_value})\n",
    "\n",
    "        val_losses += [running_loss / val_loader.num_samples()]\n",
    "        val_metrics += [running_metric / val_loader.num_samples()]\n",
    "\n",
    "        if verbose:\n",
    "            plot_losses(train_losses, train_metrics, val_losses, val_metrics)\n",
    "    \n",
    "    if verbose:\n",
    "        print(f'Validation Accuracy: {val_metrics[-1]:.3f}')\n",
    "    \n",
    "    return train_metrics[-1], val_metrics[-1]"
   ]
  },
  {
   "cell_type": "markdown",
   "id": "6216feb7",
   "metadata": {},
   "source": [
    "## Train and valdiate with own framework"
   ]
  },
  {
   "cell_type": "code",
   "execution_count": 52,
   "id": "9635530d",
   "metadata": {},
   "outputs": [
    {
     "data": {
      "text/plain": [
       "(784,)"
      ]
     },
     "execution_count": 52,
     "metadata": {},
     "output_type": "execute_result"
    }
   ],
   "source": [
    "X_train.values[0].shape"
   ]
  },
  {
   "cell_type": "code",
   "execution_count": 50,
   "id": "6eb358c8",
   "metadata": {},
   "outputs": [
    {
     "data": {
      "text/plain": [
       "(31500,)"
      ]
     },
     "execution_count": 50,
     "metadata": {},
     "output_type": "execute_result"
    }
   ],
   "source": [
    "y_train.shape"
   ]
  },
  {
   "cell_type": "code",
   "execution_count": 57,
   "id": "41e8c898",
   "metadata": {},
   "outputs": [
    {
     "data": {
      "application/vnd.jupyter.widget-view+json": {
       "model_id": "49b33a09dcf04e53a2fab1f5df26041d"
      }
     },
     "metadata": {},
     "output_type": "display_data"
    },
    {
     "name": "stdout",
     "output_type": "stream",
     "text": [
      "\n"
     ]
    },
    {
     "data": {
      "application/vnd.jupyter.widget-view+json": {
       "model_id": "cd938bdc242e41b59f1135c65128bb26"
      }
     },
     "metadata": {},
     "output_type": "display_data"
    },
    {
     "name": "stdout",
     "output_type": "stream",
     "text": [
      "\n"
     ]
    },
    {
     "ename": "NameError",
     "evalue": "name 'clear_output' is not defined",
     "output_type": "error",
     "traceback": [
      "\u001b[0;31m---------------------------------------------------------------------------\u001b[0m",
      "\u001b[0;31mNameError\u001b[0m                                 Traceback (most recent call last)",
      "Cell \u001b[0;32mIn [57], line 24\u001b[0m\n\u001b[1;32m     22\u001b[0m optimizer \u001b[38;5;241m=\u001b[39m mm\u001b[38;5;241m.\u001b[39moptimizers\u001b[38;5;241m.\u001b[39mAdam(model, lr\u001b[38;5;241m=\u001b[39m\u001b[38;5;241m1e-3\u001b[39m)\n\u001b[1;32m     23\u001b[0m criterion \u001b[38;5;241m=\u001b[39m mm\u001b[38;5;241m.\u001b[39mCrossEntropyLoss()\n\u001b[0;32m---> 24\u001b[0m train_metric, val_metric \u001b[38;5;241m=\u001b[39m \u001b[43mtrain_and_validate\u001b[49m\u001b[43m(\u001b[49m\u001b[43mmodel\u001b[49m\u001b[43m,\u001b[49m\u001b[43m \u001b[49m\u001b[43moptimizer\u001b[49m\u001b[43m,\u001b[49m\u001b[43m \u001b[49m\u001b[43mcriterion\u001b[49m\u001b[43m,\u001b[49m\u001b[43m \u001b[49m\u001b[43maccuracy\u001b[49m\u001b[43m,\u001b[49m\u001b[43m \u001b[49m\u001b[43mdataloader_train\u001b[49m\u001b[43m,\u001b[49m\u001b[43m \u001b[49m\u001b[43mdataloader_val\u001b[49m\u001b[43m,\u001b[49m\n\u001b[1;32m     25\u001b[0m \u001b[43m                       \u001b[49m\u001b[43mNUM_EPOCHS\u001b[49m\u001b[43m,\u001b[49m\u001b[43m \u001b[49m\u001b[43mverbose\u001b[49m\u001b[38;5;241;43m=\u001b[39;49m\u001b[38;5;28;43;01mTrue\u001b[39;49;00m\u001b[43m)\u001b[49m\n",
      "Cell \u001b[0;32mIn [55], line 89\u001b[0m, in \u001b[0;36mtrain_and_validate\u001b[0;34m(model, optimizer, criterion, metric, train_loader, val_loader, num_epochs, verbose, use_torch)\u001b[0m\n\u001b[1;32m     86\u001b[0m     val_metrics \u001b[38;5;241m+\u001b[39m\u001b[38;5;241m=\u001b[39m [running_metric \u001b[38;5;241m/\u001b[39m val_loader\u001b[38;5;241m.\u001b[39mnum_samples()]\n\u001b[1;32m     88\u001b[0m     \u001b[38;5;28;01mif\u001b[39;00m verbose:\n\u001b[0;32m---> 89\u001b[0m         \u001b[43mplot_losses\u001b[49m\u001b[43m(\u001b[49m\u001b[43mtrain_losses\u001b[49m\u001b[43m,\u001b[49m\u001b[43m \u001b[49m\u001b[43mtrain_metrics\u001b[49m\u001b[43m,\u001b[49m\u001b[43m \u001b[49m\u001b[43mval_losses\u001b[49m\u001b[43m,\u001b[49m\u001b[43m \u001b[49m\u001b[43mval_metrics\u001b[49m\u001b[43m)\u001b[49m\n\u001b[1;32m     91\u001b[0m \u001b[38;5;28;01mif\u001b[39;00m verbose:\n\u001b[1;32m     92\u001b[0m     \u001b[38;5;28mprint\u001b[39m(\u001b[38;5;124mf\u001b[39m\u001b[38;5;124m'\u001b[39m\u001b[38;5;124mValidation Accuracy: \u001b[39m\u001b[38;5;132;01m{\u001b[39;00mval_metrics[\u001b[38;5;241m-\u001b[39m\u001b[38;5;241m1\u001b[39m]\u001b[38;5;132;01m:\u001b[39;00m\u001b[38;5;124m.3f\u001b[39m\u001b[38;5;132;01m}\u001b[39;00m\u001b[38;5;124m'\u001b[39m)\n",
      "Cell \u001b[0;32mIn [55], line 2\u001b[0m, in \u001b[0;36mplot_losses\u001b[0;34m(train_losses, train_metrics, val_losses, val_metrics)\u001b[0m\n\u001b[1;32m      1\u001b[0m \u001b[38;5;28;01mdef\u001b[39;00m \u001b[38;5;21mplot_losses\u001b[39m(train_losses, train_metrics, val_losses, val_metrics):\n\u001b[0;32m----> 2\u001b[0m     \u001b[43mclear_output\u001b[49m()\n\u001b[1;32m      3\u001b[0m     fig, axs \u001b[38;5;241m=\u001b[39m plt\u001b[38;5;241m.\u001b[39msubplots(\u001b[38;5;241m1\u001b[39m, \u001b[38;5;241m2\u001b[39m, figsize\u001b[38;5;241m=\u001b[39m(\u001b[38;5;241m15\u001b[39m, \u001b[38;5;241m5\u001b[39m))\n\u001b[1;32m      4\u001b[0m     axs[\u001b[38;5;241m0\u001b[39m]\u001b[38;5;241m.\u001b[39mplot(\u001b[38;5;28mrange\u001b[39m(\u001b[38;5;241m1\u001b[39m, \u001b[38;5;28mlen\u001b[39m(train_losses) \u001b[38;5;241m+\u001b[39m \u001b[38;5;241m1\u001b[39m), train_losses, label\u001b[38;5;241m=\u001b[39m\u001b[38;5;124m'\u001b[39m\u001b[38;5;124mtrain\u001b[39m\u001b[38;5;124m'\u001b[39m)\n",
      "\u001b[0;31mNameError\u001b[0m: name 'clear_output' is not defined"
     ]
    }
   ],
   "source": [
    "IMG_SIZE = 28\n",
    "NUM_CLASSES = 10\n",
    "HIDDEN_SIZE = 64\n",
    "NUM_EPOCHS = 20\n",
    "BATCH_SIZE = 32\n",
    "\n",
    "def accuracy(y_pred, y_true):\n",
    "    return (np.argmax(y_pred, axis=1) == y_true).sum() / y_pred.shape[0]\n",
    "     \n",
    "     \n",
    "model = mm.Sequential(\n",
    "    mm.Linear(in_features=IMG_SIZE**2, out_features=HIDDEN_SIZE),\n",
    "    mm.ReLU(),\n",
    "    mm.Linear(in_features=HIDDEN_SIZE, out_features=HIDDEN_SIZE),\n",
    "    mm.ReLU(),\n",
    "    mm.Linear(in_features=HIDDEN_SIZE, out_features=NUM_CLASSES),\n",
    ")\n",
    "\n",
    "dataloader_train = mm.DataLoader(X_train.values, y_train.values, batch_size=BATCH_SIZE, shuffle=True)\n",
    "dataloader_val = mm.DataLoader(X_val.values , y_val.values, batch_size=BATCH_SIZE, shuffle=False)\n",
    "\n",
    "optimizer = mm.optimizers.Adam(model, lr=1e-3)\n",
    "criterion = mm.CrossEntropyLoss()\n",
    "train_metric, val_metric = train_and_validate(model, optimizer, criterion, accuracy, dataloader_train, dataloader_val,\n",
    "                       NUM_EPOCHS, verbose=True)"
   ]
  }
 ],
 "metadata": {
  "kernelspec": {
   "display_name": "Python 3 (ipykernel)",
   "language": "python",
   "name": "python3"
  },
  "language_info": {
   "codemirror_mode": {
    "name": "ipython",
    "version": 3
   },
   "file_extension": ".py",
   "mimetype": "text/x-python",
   "name": "python",
   "nbconvert_exporter": "python",
   "pygments_lexer": "ipython3",
   "version": "3.8.10"
  }
 },
 "nbformat": 4,
 "nbformat_minor": 5
}
